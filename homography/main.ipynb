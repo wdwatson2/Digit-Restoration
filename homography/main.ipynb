{
 "cells": [
  {
   "cell_type": "code",
   "execution_count": 1,
   "metadata": {},
   "outputs": [
    {
     "name": "stdout",
     "output_type": "stream",
     "text": [
      "Using device: cpu\n"
     ]
    }
   ],
   "source": [
    "from helpers import *\n",
    "device_in_use = 'cuda' if torch.cuda.is_available() else 'cpu'\n",
    "print(\"Using device:\", device_in_use)"
   ]
  },
  {
   "cell_type": "code",
   "execution_count": 2,
   "metadata": {},
   "outputs": [],
   "source": [
    "# Define a transform to convert the data to a PyTorch Tensor\n",
    "transform = transforms.Compose([\n",
    "    transforms.ToTensor(),\n",
    "])\n",
    "\n",
    "# Download the training data\n",
    "train_dataset = MNIST(root='../mnist_data', train=True, download=True, transform=transform)\n",
    "test_dataset = MNIST(root='../mnist_data', train=False, download=True, transform=transform)\n",
    "\n",
    "trainset = HomographyDataset(train_dataset)\n",
    "testset =HomographyDataset(test_dataset)\n",
    "\n",
    "trainloader = torch.utils.data.DataLoader(trainset, batch_size=64, shuffle=True)\n",
    "testloader = torch.utils.data.DataLoader(testset, batch_size=64, shuffle=True)"
   ]
  },
  {
   "cell_type": "code",
   "execution_count": 3,
   "metadata": {},
   "outputs": [
    {
     "data": {
      "image/png": "[encoded data removed]",
      "text/plain": [
       "<Figure size 400x400 with 1 Axes>"
      ]
     },
     "metadata": {},
     "output_type": "display_data"
    },
    {
     "data": {
      "image/png": "[encoded data removed]",
      "text/plain": [
       "<Figure size 400x400 with 1 Axes>"
      ]
     },
     "metadata": {},
     "output_type": "display_data"
    },
    {
     "name": "stdout",
     "output_type": "stream",
     "text": [
      "scale 1.129721595215361 0.9309302613867557\n",
      "translation -9.797533318718784 -7.94982270766702\n",
      "perspective 0.006372462199525205 0.006868551300483478\n",
      "angle -26.162453783525628\n"
     ]
    },
    {
     "data": {
      "image/png": "[encoded data removed]",
      "text/plain": [
       "<Figure size 400x400 with 1 Axes>"
      ]
     },
     "metadata": {},
     "output_type": "display_data"
    }
   ],
   "source": [
    "dataiter = iter(testloader)\n",
    "image_tensor, norm_img_tensor, transformed_tensor, norm_transformed, inverse, inverse_flattened, ((sx,sy), (tx,ty), (g,h), angle) = next(dataiter)\n",
    "\n",
    "# Display the first original image\n",
    "plt.figure(figsize=(4, 4))\n",
    "imshow(image_tensor[0])\n",
    "plt.title('Original Image')\n",
    "plt.show()\n",
    "\n",
    "# Display the first rotated image\n",
    "plt.figure(figsize=(4, 4))\n",
    "imshow(transformed_tensor[0])\n",
    "plt.title(f'Transformed Image')\n",
    "plt.show()\n",
    "\n",
    "print(\"scale\", sx[0].item(), sy[0].item())\n",
    "print(\"translation\", tx[0].item(), ty[0].item())\n",
    "print(\"perspective\",g[0].item(), h[0].item())\n",
    "print(\"angle\",angle[0].item())\n",
    "\n",
    "img = tensor_to_cv(transformed_tensor[0])\n",
    "inv = inverse[0].numpy()\n",
    "img_tran = cv2.warpPerspective(img, inv, (28,28))\n",
    "\n",
    "# Display the first rotated image\n",
    "plt.figure(figsize=(4, 4))\n",
    "imshow(cv_to_tensor(img_tran))\n",
    "plt.title(f'Transformed Back')\n",
    "plt.show()"
   ]
  },
  {
   "cell_type": "code",
   "execution_count": 4,
   "metadata": {},
   "outputs": [],
   "source": [
    "m1 = models.resnet18()\n",
    "\n",
    "# Change the first convolutional layer to accept 1-channel input\n",
    "m1.conv1 = nn.Conv2d(1, 64, kernel_size=3, stride=1, padding=1, bias=False)\n",
    "\n",
    "num_features = m1.fc.in_features\n",
    "m1.fc = nn.Linear(num_features, 9)\n",
    "\n",
    "# Now move the modified model to the GPU\n",
    "m1 = m1.to(device_in_use)\n",
    "\n",
    "optimizer = torch.optim.Adam(m1.parameters(), lr=0.001)\n",
    "loss_function = nn.MSELoss()\n",
    "\n",
    "import torch.optim.lr_scheduler as lr_scheduler\n",
    "\n",
    "# Define the StepLR scheduler\n",
    "# This will decrease the learning rate by a factor of 0.1 every 30 epochs\n",
    "scheduler = lr_scheduler.StepLR(optimizer, step_size=20, gamma=0.1)"
   ]
  },
  {
   "cell_type": "code",
   "execution_count": null,
   "metadata": {},
   "outputs": [],
   "source": [
    "train_loss = []\n",
    "test_loss = []\n",
    "\n",
    "epochs=500\n",
    "early_stopping=EarlyStopping(patience=6, verbose=True, mode='min')\n",
    "for epoch in range(epochs):\n",
    "    m1.train()\n",
    "    total_loss_train = 0  # Initialize total training loss\n",
    "    for image_tensor, norm_img_tensor, transformed_tensor, norm_transformed, inverse, inverse_flattened, ((sx,sy), (tx,ty), (g,h), angle) in trainloader:\n",
    "        # Move inputs to the device\n",
    "        norm_transformed = norm_transformed.to(device_in_use)\n",
    "        inverse = inverse_flattened.to(device_in_use)\n",
    "\n",
    "        # Zero the parameter gradients\n",
    "        optimizer.zero_grad()\n",
    "\n",
    "        # Forward pass\n",
    "        outputs = m1(norm_transformed).squeeze()\n",
    "\n",
    "        # Calculate the loss\n",
    "        loss = loss_function(outputs, inverse)\n",
    "\n",
    "        # Backward pass and optimize\n",
    "        loss.backward()\n",
    "        optimizer.step()\n",
    "\n",
    "        total_loss_train += loss.item()  # Accumulate the training loss\n",
    "\n",
    "    avg_loss_train = total_loss_train / len(trainloader)  # Compute the average training loss\n",
    "\n",
    "    train_loss.append(avg_loss_train)\n",
    "\n",
    "    m1.eval()\n",
    "    total_loss_test = 0  # Initialize total test loss\n",
    "    with torch.no_grad():\n",
    "        for image_tensor, norm_img_tensor, transformed_tensor, norm_transformed, inverse, inverse_flattened, ((sx,sy), (tx,ty), (g,h), angle) in testloader:\n",
    "            # Move inputs to the device\n",
    "            norm_transformed = norm_transformed.to(device_in_use)\n",
    "            inverse = inverse_flattened.to(device_in_use)\n",
    "\n",
    "            # Zero the parameter gradients\n",
    "            optimizer.zero_grad()\n",
    "\n",
    "            # Forward pass\n",
    "            outputs = m1(norm_transformed).squeeze()\n",
    "\n",
    "            # Calculate the loss\n",
    "            loss_test = loss_function(outputs, inverse)\n",
    "\n",
    "            total_loss_test += loss_test.item()  # Accumulate the test loss\n",
    "\n",
    "    avg_loss_test = total_loss_test / len(testloader) \n",
    "\n",
    "    test_loss.append(avg_loss_test)\n",
    "\n",
    "    scheduler.step()\n",
    "\n",
    "    early_stopping(avg_loss_test)\n",
    "    \n",
    "    if early_stopping.early_stop:\n",
    "        print(\"Early stopping\")\n",
    "        break\n",
    "\n",
    "    print(f'Epoch [{epoch+1}/{epochs}], TRAIN | Loss: {avg_loss_train}, TEST | Loss: {avg_loss_test}')\n",
    "\n",
    "torch.save(m1, 'working.pth')"
   ]
  },
  {
   "cell_type": "code",
   "execution_count": null,
   "metadata": {},
   "outputs": [],
   "source": [
    "dataiter = iter(testloader)\n",
    "\n",
    "m1.eval()\n",
    "\n",
    "image_tensor, norm_img_tensor, transformed_tensor, norm_transformed, inverse, inverse_flattened, ((sx,sy), (tx,ty), (g,h), angle)  = next(dataiter)\n",
    "\n",
    "original_image = image_tensor[0]\n",
    "transformed_image = transformed_tensor[0]\n",
    "norm_transformed_image = norm_transformed[0]\n",
    "inverse = inverse[0].numpy()\n",
    "\n",
    "original_image_batched = original_image.unsqueeze(0)\n",
    "norm_transformed_image = norm_transformed_image.unsqueeze(0)\n",
    "\n",
    "norm_transformed_image_batched = norm_transformed_image.to(device_in_use)\n",
    "\n",
    "with torch.no_grad():\n",
    "    outputs = m1(norm_transformed_image_batched).cpu()\n",
    "\n",
    "transformed_image_cv = tensor_to_cv(transformed_image)\n",
    "original_image_cv = tensor_to_cv(original_image)\n",
    "\n",
    "outputs = outputs.cpu()\n",
    "\n",
    "# Assuming 'outputs' contains the 8 parameters of the transformation matrix\n",
    "predicted_params = outputs[0].numpy()  # Convert to numpy array if it's not already\n",
    "predicted_inverse_matrix = predicted_params.reshape((3, 3))  # Append 1 for the last element and reshape\n",
    "\n",
    "\n",
    "# Apply the predicted inverse transformation to the transformed image\n",
    "# Note: 'cv_image' is obtained from 'tensor_to_cv(transformed_image.cpu())', as in your code\n",
    "pred_restored = cv2.warpPerspective(transformed_image_cv, predicted_inverse_matrix, (transformed_image_cv.shape[0], transformed_image_cv.shape[1]))\n",
    "actual_restored = cv2.warpPerspective(transformed_image_cv, inverse, (transformed_image_cv.shape[0], transformed_image_cv.shape[1]))\n",
    "\n",
    "# Display the original transformed image\n",
    "plt.figure(figsize=(12, 6))\n",
    "plt.subplot(1, 4, 1)\n",
    "plt.imshow(transformed_image_cv, cmap='gray')\n",
    "plt.title('Transformed Image')\n",
    "plt.axis('off')\n",
    "\n",
    "# Display the restored image using the predicted inverse matrix\n",
    "plt.subplot(1, 4, 2)\n",
    "plt.imshow(pred_restored, cmap='gray')\n",
    "plt.title('Restored Image (PREDICTED)')\n",
    "plt.axis('off')\n",
    "\n",
    "#Display the actual restored image\n",
    "plt.subplot(1, 4, 3)\n",
    "plt.imshow(actual_restored, cmap='gray')\n",
    "plt.title('Restored Image (ACTUAL)')\n",
    "plt.axis('off')\n",
    "\n",
    "# Optionally, display the original image for comparison\n",
    "plt.subplot(1, 4, 4)\n",
    "plt.imshow(original_image_cv, cmap='gray')\n",
    "plt.title('Original Image')\n",
    "plt.axis('off')\n",
    "\n",
    "plt.show()"
   ]
  }
 ],
 "metadata": {
  "kernelspec": {
   "display_name": "digit-restoration-env",
   "language": "python",
   "name": "python3"
  },
  "language_info": {
   "codemirror_mode": {
    "name": "ipython",
    "version": 3
   },
   "file_extension": ".py",
   "mimetype": "text/x-python",
   "name": "python",
   "nbconvert_exporter": "python",
   "pygments_lexer": "ipython3",
   "version": "3.12.3"
  }
 },
 "nbformat": 4,
 "nbformat_minor": 2
}
